{
 "cells": [
  {
   "cell_type": "markdown",
   "metadata": {},
   "source": [
    "# Lab 01 Part 01 - Greenhouse Emissions\n",
    "\n",
    "#### Tasks:\n",
    "\n",
    "- Exploring all possible numpy/pandas operations (min 6)"
   ]
  },
  {
   "cell_type": "code",
   "execution_count": 1,
   "metadata": {},
   "outputs": [],
   "source": [
    "import pandas as pd"
   ]
  },
  {
   "cell_type": "markdown",
   "metadata": {},
   "source": [
    "Importing the dataset"
   ]
  },
  {
   "cell_type": "code",
   "execution_count": 2,
   "metadata": {},
   "outputs": [
    {
     "data": {
      "text/html": [
       "<div>\n",
       "<style scoped>\n",
       "    .dataframe tbody tr th:only-of-type {\n",
       "        vertical-align: middle;\n",
       "    }\n",
       "\n",
       "    .dataframe tbody tr th {\n",
       "        vertical-align: top;\n",
       "    }\n",
       "\n",
       "    .dataframe thead th {\n",
       "        text-align: right;\n",
       "    }\n",
       "</style>\n",
       "<table border=\"1\" class=\"dataframe\">\n",
       "  <thead>\n",
       "    <tr style=\"text-align: right;\">\n",
       "      <th></th>\n",
       "      <th>country</th>\n",
       "      <th>total_co2</th>\n",
       "      <th>co2_per_capita</th>\n",
       "      <th>total_methane</th>\n",
       "      <th>methane_per_capita</th>\n",
       "    </tr>\n",
       "  </thead>\n",
       "  <tbody>\n",
       "    <tr>\n",
       "      <th>0</th>\n",
       "      <td>Qatar</td>\n",
       "      <td>91.97 m t</td>\n",
       "      <td>31.38 t</td>\n",
       "      <td>21.45 m t</td>\n",
       "      <td>7.32 t</td>\n",
       "    </tr>\n",
       "    <tr>\n",
       "      <th>1</th>\n",
       "      <td>Bahrain</td>\n",
       "      <td>33.26 m t</td>\n",
       "      <td>19.02 t</td>\n",
       "      <td>17.41 m t</td>\n",
       "      <td>9.96 t</td>\n",
       "    </tr>\n",
       "    <tr>\n",
       "      <th>2</th>\n",
       "      <td>Kuwait</td>\n",
       "      <td>92.65 m t</td>\n",
       "      <td>21.40 t</td>\n",
       "      <td>24.71 m t</td>\n",
       "      <td>5.71 t</td>\n",
       "    </tr>\n",
       "    <tr>\n",
       "      <th>3</th>\n",
       "      <td>Turkmenistan</td>\n",
       "      <td>72.87 m t</td>\n",
       "      <td>11.91 t</td>\n",
       "      <td>80.48 m t</td>\n",
       "      <td>13.15 t</td>\n",
       "    </tr>\n",
       "    <tr>\n",
       "      <th>4</th>\n",
       "      <td>United Arab Emirates</td>\n",
       "      <td>188.86 m t</td>\n",
       "      <td>18.90 t</td>\n",
       "      <td>49.80 m t</td>\n",
       "      <td>4.98 t</td>\n",
       "    </tr>\n",
       "  </tbody>\n",
       "</table>\n",
       "</div>"
      ],
      "text/plain": [
       "                country   total_co2 co2_per_capita total_methane  \\\n",
       "0                 Qatar   91.97 m t        31.38 t     21.45 m t   \n",
       "1               Bahrain   33.26 m t        19.02 t     17.41 m t   \n",
       "2                Kuwait   92.65 m t        21.40 t     24.71 m t   \n",
       "3          Turkmenistan   72.87 m t        11.91 t     80.48 m t   \n",
       "4  United Arab Emirates  188.86 m t        18.90 t     49.80 m t   \n",
       "\n",
       "  methane_per_capita  \n",
       "0             7.32 t  \n",
       "1             9.96 t  \n",
       "2             5.71 t  \n",
       "3            13.15 t  \n",
       "4             4.98 t  "
      ]
     },
     "execution_count": 2,
     "metadata": {},
     "output_type": "execute_result"
    }
   ],
   "source": [
    "df = pd.read_csv(\"greenhouse_emission.csv\")\n",
    "df.head()"
   ]
  },
  {
   "cell_type": "markdown",
   "metadata": {},
   "source": [
    "Checking general information about the dataset (null values, datatypes ,etc)"
   ]
  },
  {
   "cell_type": "code",
   "execution_count": 3,
   "metadata": {},
   "outputs": [
    {
     "data": {
      "text/html": [
       "<div>\n",
       "<style scoped>\n",
       "    .dataframe tbody tr th:only-of-type {\n",
       "        vertical-align: middle;\n",
       "    }\n",
       "\n",
       "    .dataframe tbody tr th {\n",
       "        vertical-align: top;\n",
       "    }\n",
       "\n",
       "    .dataframe thead th {\n",
       "        text-align: right;\n",
       "    }\n",
       "</style>\n",
       "<table border=\"1\" class=\"dataframe\">\n",
       "  <thead>\n",
       "    <tr style=\"text-align: right;\">\n",
       "      <th></th>\n",
       "      <th>country</th>\n",
       "      <th>total_co2</th>\n",
       "      <th>co2_per_capita</th>\n",
       "      <th>total_methane</th>\n",
       "      <th>methane_per_capita</th>\n",
       "    </tr>\n",
       "  </thead>\n",
       "  <tbody>\n",
       "    <tr>\n",
       "      <th>count</th>\n",
       "      <td>102</td>\n",
       "      <td>102</td>\n",
       "      <td>102</td>\n",
       "      <td>102</td>\n",
       "      <td>102</td>\n",
       "    </tr>\n",
       "    <tr>\n",
       "      <th>unique</th>\n",
       "      <td>102</td>\n",
       "      <td>102</td>\n",
       "      <td>98</td>\n",
       "      <td>101</td>\n",
       "      <td>82</td>\n",
       "    </tr>\n",
       "    <tr>\n",
       "      <th>top</th>\n",
       "      <td>Qatar</td>\n",
       "      <td>91.97 m t</td>\n",
       "      <td>4.24 t</td>\n",
       "      <td>80.48 m t</td>\n",
       "      <td>0.88 t</td>\n",
       "    </tr>\n",
       "    <tr>\n",
       "      <th>freq</th>\n",
       "      <td>1</td>\n",
       "      <td>1</td>\n",
       "      <td>2</td>\n",
       "      <td>2</td>\n",
       "      <td>4</td>\n",
       "    </tr>\n",
       "  </tbody>\n",
       "</table>\n",
       "</div>"
      ],
      "text/plain": [
       "       country  total_co2 co2_per_capita total_methane methane_per_capita\n",
       "count      102        102            102           102                102\n",
       "unique     102        102             98           101                 82\n",
       "top      Qatar  91.97 m t         4.24 t     80.48 m t             0.88 t\n",
       "freq         1          1              2             2                  4"
      ]
     },
     "execution_count": 3,
     "metadata": {},
     "output_type": "execute_result"
    }
   ],
   "source": [
    "df.describe()"
   ]
  },
  {
   "cell_type": "code",
   "execution_count": 4,
   "metadata": {},
   "outputs": [
    {
     "name": "stdout",
     "output_type": "stream",
     "text": [
      "<class 'pandas.core.frame.DataFrame'>\n",
      "RangeIndex: 102 entries, 0 to 101\n",
      "Data columns (total 5 columns):\n",
      " #   Column              Non-Null Count  Dtype \n",
      "---  ------              --------------  ----- \n",
      " 0   country             102 non-null    object\n",
      " 1   total_co2           102 non-null    object\n",
      " 2   co2_per_capita      102 non-null    object\n",
      " 3   total_methane       102 non-null    object\n",
      " 4   methane_per_capita  102 non-null    object\n",
      "dtypes: object(5)\n",
      "memory usage: 4.1+ KB\n"
     ]
    }
   ],
   "source": [
    "df.info()"
   ]
  },
  {
   "cell_type": "markdown",
   "metadata": {},
   "source": [
    "- Removing units in every column (except country) as the unit is same for in each column (tonnes).\n",
    "- Converting mega tonnes to to tonnes by multiplying by 1000000 (same for 'bn t')\n",
    "- Also, converting those columns to Dtype float64"
   ]
  },
  {
   "cell_type": "code",
   "execution_count": 5,
   "metadata": {},
   "outputs": [
    {
     "data": {
      "text/html": [
       "<div>\n",
       "<style scoped>\n",
       "    .dataframe tbody tr th:only-of-type {\n",
       "        vertical-align: middle;\n",
       "    }\n",
       "\n",
       "    .dataframe tbody tr th {\n",
       "        vertical-align: top;\n",
       "    }\n",
       "\n",
       "    .dataframe thead th {\n",
       "        text-align: right;\n",
       "    }\n",
       "</style>\n",
       "<table border=\"1\" class=\"dataframe\">\n",
       "  <thead>\n",
       "    <tr style=\"text-align: right;\">\n",
       "      <th></th>\n",
       "      <th>country</th>\n",
       "      <th>total_co2</th>\n",
       "      <th>co2_per_capita</th>\n",
       "      <th>total_methane</th>\n",
       "      <th>methane_per_capita</th>\n",
       "    </tr>\n",
       "  </thead>\n",
       "  <tbody>\n",
       "    <tr>\n",
       "      <th>0</th>\n",
       "      <td>Qatar</td>\n",
       "      <td>91970000.0</td>\n",
       "      <td>31.38</td>\n",
       "      <td>21450000.0</td>\n",
       "      <td>7.32</td>\n",
       "    </tr>\n",
       "    <tr>\n",
       "      <th>1</th>\n",
       "      <td>Bahrain</td>\n",
       "      <td>33260000.0</td>\n",
       "      <td>19.02</td>\n",
       "      <td>17410000.0</td>\n",
       "      <td>9.96</td>\n",
       "    </tr>\n",
       "    <tr>\n",
       "      <th>2</th>\n",
       "      <td>Kuwait</td>\n",
       "      <td>92650000.0</td>\n",
       "      <td>21.40</td>\n",
       "      <td>24710000.0</td>\n",
       "      <td>5.71</td>\n",
       "    </tr>\n",
       "    <tr>\n",
       "      <th>3</th>\n",
       "      <td>Turkmenistan</td>\n",
       "      <td>72870000.0</td>\n",
       "      <td>11.91</td>\n",
       "      <td>80480000.0</td>\n",
       "      <td>13.15</td>\n",
       "    </tr>\n",
       "    <tr>\n",
       "      <th>4</th>\n",
       "      <td>United Arab Emirates</td>\n",
       "      <td>188860000.0</td>\n",
       "      <td>18.90</td>\n",
       "      <td>49800000.0</td>\n",
       "      <td>4.98</td>\n",
       "    </tr>\n",
       "    <tr>\n",
       "      <th>...</th>\n",
       "      <td>...</td>\n",
       "      <td>...</td>\n",
       "      <td>...</td>\n",
       "      <td>...</td>\n",
       "      <td>...</td>\n",
       "    </tr>\n",
       "    <tr>\n",
       "      <th>97</th>\n",
       "      <td>Congo (Dem. Republic)</td>\n",
       "      <td>3210000.0</td>\n",
       "      <td>0.03</td>\n",
       "      <td>34930000.0</td>\n",
       "      <td>0.38</td>\n",
       "    </tr>\n",
       "    <tr>\n",
       "      <th>98</th>\n",
       "      <td>Liberia</td>\n",
       "      <td>1180000.0</td>\n",
       "      <td>0.23</td>\n",
       "      <td>370000.00</td>\n",
       "      <td>0.07</td>\n",
       "    </tr>\n",
       "    <tr>\n",
       "      <th>99</th>\n",
       "      <td>Malawi</td>\n",
       "      <td>1450000.0</td>\n",
       "      <td>0.07</td>\n",
       "      <td>3950000.0</td>\n",
       "      <td>0.20</td>\n",
       "    </tr>\n",
       "    <tr>\n",
       "      <th>100</th>\n",
       "      <td>Rwanda</td>\n",
       "      <td>1330000.0</td>\n",
       "      <td>0.10</td>\n",
       "      <td>1880000.0</td>\n",
       "      <td>0.14</td>\n",
       "    </tr>\n",
       "    <tr>\n",
       "      <th>101</th>\n",
       "      <td>Burundi</td>\n",
       "      <td>720000.00</td>\n",
       "      <td>0.06</td>\n",
       "      <td>1350000.0</td>\n",
       "      <td>0.11</td>\n",
       "    </tr>\n",
       "  </tbody>\n",
       "</table>\n",
       "<p>102 rows × 5 columns</p>\n",
       "</div>"
      ],
      "text/plain": [
       "                   country    total_co2 co2_per_capita total_methane  \\\n",
       "0                    Qatar   91970000.0        31.38      21450000.0   \n",
       "1                  Bahrain   33260000.0        19.02      17410000.0   \n",
       "2                   Kuwait   92650000.0        21.40      24710000.0   \n",
       "3             Turkmenistan   72870000.0        11.91      80480000.0   \n",
       "4     United Arab Emirates  188860000.0        18.90      49800000.0   \n",
       "..                     ...          ...            ...           ...   \n",
       "97   Congo (Dem. Republic)    3210000.0         0.03      34930000.0   \n",
       "98                 Liberia    1180000.0         0.23     370000.00     \n",
       "99                  Malawi    1450000.0         0.07       3950000.0   \n",
       "100                 Rwanda    1330000.0         0.10       1880000.0   \n",
       "101                Burundi  720000.00           0.06       1350000.0   \n",
       "\n",
       "    methane_per_capita  \n",
       "0               7.32    \n",
       "1               9.96    \n",
       "2               5.71    \n",
       "3              13.15    \n",
       "4               4.98    \n",
       "..                 ...  \n",
       "97              0.38    \n",
       "98              0.07    \n",
       "99              0.20    \n",
       "100             0.14    \n",
       "101             0.11    \n",
       "\n",
       "[102 rows x 5 columns]"
      ]
     },
     "execution_count": 5,
     "metadata": {},
     "output_type": "execute_result"
    }
   ],
   "source": [
    "def convert_units(x):\n",
    "    if isinstance(x, str):\n",
    "        x = x.replace(',','')\n",
    "        if 'm' in x:\n",
    "            x = float(x.replace('m', '')) * 1000000\n",
    "        elif 'bn' in x:\n",
    "            x = float(x.replace('bn', '')) * 1000000000\n",
    "    return x\n",
    "\n",
    "df.iloc[:,1:] = df.iloc[:,1:].applymap(lambda x: x.replace('t', ' ')).applymap(convert_units)\n",
    "df\n"
   ]
  },
  {
   "cell_type": "code",
   "execution_count": 6,
   "metadata": {},
   "outputs": [
    {
     "name": "stdout",
     "output_type": "stream",
     "text": [
      "Index(['total_co2', 'co2_per_capita', 'total_methane', 'methane_per_capita'], dtype='object')\n",
      "<class 'pandas.core.frame.DataFrame'>\n",
      "RangeIndex: 102 entries, 0 to 101\n",
      "Data columns (total 5 columns):\n",
      " #   Column              Non-Null Count  Dtype  \n",
      "---  ------              --------------  -----  \n",
      " 0   country             102 non-null    object \n",
      " 1   total_co2           102 non-null    float64\n",
      " 2   co2_per_capita      102 non-null    float64\n",
      " 3   total_methane       102 non-null    float64\n",
      " 4   methane_per_capita  102 non-null    float64\n",
      "dtypes: float64(4), object(1)\n",
      "memory usage: 4.1+ KB\n"
     ]
    }
   ],
   "source": [
    "temp_df = df.iloc[:,1:]\n",
    "s = temp_df.select_dtypes(include='object').columns\n",
    "print(s)\n",
    "df[s] = df[s].astype(\"float64\")\n",
    "df.info()"
   ]
  },
  {
   "cell_type": "markdown",
   "metadata": {},
   "source": [
    "Finding correlation between total CO2 and total methane"
   ]
  },
  {
   "cell_type": "code",
   "execution_count": 7,
   "metadata": {},
   "outputs": [
    {
     "data": {
      "text/plain": [
       "0.88214"
      ]
     },
     "execution_count": 7,
     "metadata": {},
     "output_type": "execute_result"
    }
   ],
   "source": [
    "df[['total_co2', 'total_methane']].corr().iloc[0, 1].round(5)"
   ]
  },
  {
   "cell_type": "markdown",
   "metadata": {},
   "source": [
    "Finding total CO2:total methane for each country and attachning to main dataframe.\n",
    "Also sorting by the new field"
   ]
  },
  {
   "cell_type": "code",
   "execution_count": 8,
   "metadata": {},
   "outputs": [
    {
     "data": {
      "text/html": [
       "<div>\n",
       "<style scoped>\n",
       "    .dataframe tbody tr th:only-of-type {\n",
       "        vertical-align: middle;\n",
       "    }\n",
       "\n",
       "    .dataframe tbody tr th {\n",
       "        vertical-align: top;\n",
       "    }\n",
       "\n",
       "    .dataframe thead th {\n",
       "        text-align: right;\n",
       "    }\n",
       "</style>\n",
       "<table border=\"1\" class=\"dataframe\">\n",
       "  <thead>\n",
       "    <tr style=\"text-align: right;\">\n",
       "      <th></th>\n",
       "      <th>country</th>\n",
       "      <th>total_co2</th>\n",
       "      <th>co2_per_capita</th>\n",
       "      <th>total_methane</th>\n",
       "      <th>methane_per_capita</th>\n",
       "      <th>co2_methane_ratio</th>\n",
       "    </tr>\n",
       "  </thead>\n",
       "  <tbody>\n",
       "    <tr>\n",
       "      <th>73</th>\n",
       "      <td>Chad</td>\n",
       "      <td>2.250000e+06</td>\n",
       "      <td>0.13</td>\n",
       "      <td>52720000.00</td>\n",
       "      <td>3.12</td>\n",
       "      <td>0.042678</td>\n",
       "    </tr>\n",
       "    <tr>\n",
       "      <th>97</th>\n",
       "      <td>Congo (Dem. Republic)</td>\n",
       "      <td>3.210000e+06</td>\n",
       "      <td>0.03</td>\n",
       "      <td>34930000.00</td>\n",
       "      <td>0.38</td>\n",
       "      <td>0.091898</td>\n",
       "    </tr>\n",
       "    <tr>\n",
       "      <th>65</th>\n",
       "      <td>Timor-Leste</td>\n",
       "      <td>6.200000e+05</td>\n",
       "      <td>0.46</td>\n",
       "      <td>5010000.00</td>\n",
       "      <td>3.73</td>\n",
       "      <td>0.123752</td>\n",
       "    </tr>\n",
       "    <tr>\n",
       "      <th>5</th>\n",
       "      <td>Grenada</td>\n",
       "      <td>3.300000e+05</td>\n",
       "      <td>2.92</td>\n",
       "      <td>2040000.00</td>\n",
       "      <td>18.05</td>\n",
       "      <td>0.161765</td>\n",
       "    </tr>\n",
       "    <tr>\n",
       "      <th>93</th>\n",
       "      <td>Ethiopia</td>\n",
       "      <td>1.836000e+07</td>\n",
       "      <td>0.16</td>\n",
       "      <td>84140000.00</td>\n",
       "      <td>0.71</td>\n",
       "      <td>0.218208</td>\n",
       "    </tr>\n",
       "    <tr>\n",
       "      <th>...</th>\n",
       "      <td>...</td>\n",
       "      <td>...</td>\n",
       "      <td>...</td>\n",
       "      <td>...</td>\n",
       "      <td>...</td>\n",
       "      <td>...</td>\n",
       "    </tr>\n",
       "    <tr>\n",
       "      <th>20</th>\n",
       "      <td>Bermuda</td>\n",
       "      <td>6.123890e+05</td>\n",
       "      <td>9.59</td>\n",
       "      <td>30959.96</td>\n",
       "      <td>0.48</td>\n",
       "      <td>19.780032</td>\n",
       "    </tr>\n",
       "    <tr>\n",
       "      <th>6</th>\n",
       "      <td>New Caledonia</td>\n",
       "      <td>5.330000e+06</td>\n",
       "      <td>19.54</td>\n",
       "      <td>214726.32</td>\n",
       "      <td>0.79</td>\n",
       "      <td>24.822295</td>\n",
       "    </tr>\n",
       "    <tr>\n",
       "      <th>17</th>\n",
       "      <td>South Korea</td>\n",
       "      <td>6.107900e+08</td>\n",
       "      <td>11.80</td>\n",
       "      <td>22700000.00</td>\n",
       "      <td>0.44</td>\n",
       "      <td>26.907048</td>\n",
       "    </tr>\n",
       "    <tr>\n",
       "      <th>25</th>\n",
       "      <td>Japan</td>\n",
       "      <td>1.080000e+09</td>\n",
       "      <td>8.61</td>\n",
       "      <td>27380000.00</td>\n",
       "      <td>0.22</td>\n",
       "      <td>39.444850</td>\n",
       "    </tr>\n",
       "    <tr>\n",
       "      <th>9</th>\n",
       "      <td>Gibraltar</td>\n",
       "      <td>6.343910e+05</td>\n",
       "      <td>18.83</td>\n",
       "      <td>6604.06</td>\n",
       "      <td>0.20</td>\n",
       "      <td>96.060757</td>\n",
       "    </tr>\n",
       "  </tbody>\n",
       "</table>\n",
       "<p>102 rows × 6 columns</p>\n",
       "</div>"
      ],
      "text/plain": [
       "                  country     total_co2  co2_per_capita  total_methane  \\\n",
       "73                   Chad  2.250000e+06            0.13    52720000.00   \n",
       "97  Congo (Dem. Republic)  3.210000e+06            0.03    34930000.00   \n",
       "65            Timor-Leste  6.200000e+05            0.46     5010000.00   \n",
       "5                 Grenada  3.300000e+05            2.92     2040000.00   \n",
       "93               Ethiopia  1.836000e+07            0.16    84140000.00   \n",
       "..                    ...           ...             ...            ...   \n",
       "20                Bermuda  6.123890e+05            9.59       30959.96   \n",
       "6           New Caledonia  5.330000e+06           19.54      214726.32   \n",
       "17            South Korea  6.107900e+08           11.80    22700000.00   \n",
       "25                  Japan  1.080000e+09            8.61    27380000.00   \n",
       "9               Gibraltar  6.343910e+05           18.83        6604.06   \n",
       "\n",
       "    methane_per_capita  co2_methane_ratio  \n",
       "73                3.12           0.042678  \n",
       "97                0.38           0.091898  \n",
       "65                3.73           0.123752  \n",
       "5                18.05           0.161765  \n",
       "93                0.71           0.218208  \n",
       "..                 ...                ...  \n",
       "20                0.48          19.780032  \n",
       "6                 0.79          24.822295  \n",
       "17                0.44          26.907048  \n",
       "25                0.22          39.444850  \n",
       "9                 0.20          96.060757  \n",
       "\n",
       "[102 rows x 6 columns]"
      ]
     },
     "execution_count": 8,
     "metadata": {},
     "output_type": "execute_result"
    }
   ],
   "source": [
    "df['co2_methane_ratio'] = df['total_co2'] / df['total_methane']\n",
    "df = df.sort_values('co2_methane_ratio')\n",
    "df"
   ]
  },
  {
   "cell_type": "markdown",
   "metadata": {},
   "source": [
    "- Finding total greenhouse emissions per country\n",
    "- Finding biggest producers (countries) of greenhouse emissions "
   ]
  },
  {
   "cell_type": "code",
   "execution_count": 9,
   "metadata": {},
   "outputs": [
    {
     "data": {
      "text/html": [
       "<div>\n",
       "<style scoped>\n",
       "    .dataframe tbody tr th:only-of-type {\n",
       "        vertical-align: middle;\n",
       "    }\n",
       "\n",
       "    .dataframe tbody tr th {\n",
       "        vertical-align: top;\n",
       "    }\n",
       "\n",
       "    .dataframe thead th {\n",
       "        text-align: right;\n",
       "    }\n",
       "</style>\n",
       "<table border=\"1\" class=\"dataframe\">\n",
       "  <thead>\n",
       "    <tr style=\"text-align: right;\">\n",
       "      <th></th>\n",
       "      <th>country</th>\n",
       "      <th>total_greenhouse_emission</th>\n",
       "    </tr>\n",
       "  </thead>\n",
       "  <tbody>\n",
       "    <tr>\n",
       "      <th>31</th>\n",
       "      <td>China</td>\n",
       "      <td>1.189000e+10</td>\n",
       "    </tr>\n",
       "    <tr>\n",
       "      <th>12</th>\n",
       "      <td>United States</td>\n",
       "      <td>5.564510e+09</td>\n",
       "    </tr>\n",
       "    <tr>\n",
       "      <th>79</th>\n",
       "      <td>India</td>\n",
       "      <td>3.116650e+09</td>\n",
       "    </tr>\n",
       "    <tr>\n",
       "      <th>13</th>\n",
       "      <td>Russia</td>\n",
       "      <td>2.384300e+09</td>\n",
       "    </tr>\n",
       "    <tr>\n",
       "      <th>25</th>\n",
       "      <td>Japan</td>\n",
       "      <td>1.107380e+09</td>\n",
       "    </tr>\n",
       "    <tr>\n",
       "      <th>...</th>\n",
       "      <td>...</td>\n",
       "      <td>...</td>\n",
       "    </tr>\n",
       "    <tr>\n",
       "      <th>101</th>\n",
       "      <td>Burundi</td>\n",
       "      <td>2.070000e+06</td>\n",
       "    </tr>\n",
       "    <tr>\n",
       "      <th>70</th>\n",
       "      <td>Malta</td>\n",
       "      <td>1.880000e+06</td>\n",
       "    </tr>\n",
       "    <tr>\n",
       "      <th>98</th>\n",
       "      <td>Liberia</td>\n",
       "      <td>1.550000e+06</td>\n",
       "    </tr>\n",
       "    <tr>\n",
       "      <th>20</th>\n",
       "      <td>Bermuda</td>\n",
       "      <td>6.433490e+05</td>\n",
       "    </tr>\n",
       "    <tr>\n",
       "      <th>9</th>\n",
       "      <td>Gibraltar</td>\n",
       "      <td>6.409951e+05</td>\n",
       "    </tr>\n",
       "  </tbody>\n",
       "</table>\n",
       "<p>102 rows × 2 columns</p>\n",
       "</div>"
      ],
      "text/plain": [
       "           country  total_greenhouse_emission\n",
       "31           China               1.189000e+10\n",
       "12   United States               5.564510e+09\n",
       "79           India               3.116650e+09\n",
       "13          Russia               2.384300e+09\n",
       "25           Japan               1.107380e+09\n",
       "..             ...                        ...\n",
       "101        Burundi               2.070000e+06\n",
       "70           Malta               1.880000e+06\n",
       "98         Liberia               1.550000e+06\n",
       "20         Bermuda               6.433490e+05\n",
       "9        Gibraltar               6.409951e+05\n",
       "\n",
       "[102 rows x 2 columns]"
      ]
     },
     "execution_count": 9,
     "metadata": {},
     "output_type": "execute_result"
    }
   ],
   "source": [
    "total_greenhouse_emission = (df['total_co2'] + df['total_methane'])\n",
    "total_greenhouse_emission.name = 'total_greenhouse_emission'\n",
    "pd.concat([df['country'],total_greenhouse_emission],axis=1).sort_values('total_greenhouse_emission',ascending=False)"
   ]
  },
  {
   "cell_type": "markdown",
   "metadata": {},
   "source": [
    "# Lab 01 Part 02 - Video Game Sales\n",
    "\n",
    "Tasks:\n",
    "\n",
    "- Exploring all possible numpy/pandas operations (min 6)"
   ]
  },
  {
   "cell_type": "markdown",
   "metadata": {},
   "source": [
    "Opening the dataset"
   ]
  },
  {
   "cell_type": "code",
   "execution_count": 10,
   "metadata": {},
   "outputs": [],
   "source": [
    "df = pd.read_csv('vgsales.csv')"
   ]
  },
  {
   "cell_type": "markdown",
   "metadata": {},
   "source": [
    "Preliminary analysis"
   ]
  },
  {
   "cell_type": "code",
   "execution_count": 11,
   "metadata": {},
   "outputs": [
    {
     "name": "stdout",
     "output_type": "stream",
     "text": [
      "<class 'pandas.core.frame.DataFrame'>\n",
      "RangeIndex: 16598 entries, 0 to 16597\n",
      "Data columns (total 11 columns):\n",
      " #   Column        Non-Null Count  Dtype  \n",
      "---  ------        --------------  -----  \n",
      " 0   Rank          16598 non-null  int64  \n",
      " 1   Name          16598 non-null  object \n",
      " 2   Platform      16598 non-null  object \n",
      " 3   Year          16327 non-null  float64\n",
      " 4   Genre         16598 non-null  object \n",
      " 5   Publisher     16540 non-null  object \n",
      " 6   NA_Sales      16598 non-null  float64\n",
      " 7   EU_Sales      16598 non-null  float64\n",
      " 8   JP_Sales      16598 non-null  float64\n",
      " 9   Other_Sales   16598 non-null  float64\n",
      " 10  Global_Sales  16598 non-null  float64\n",
      "dtypes: float64(6), int64(1), object(4)\n",
      "memory usage: 1.4+ MB\n",
      "None\n",
      "               Rank          Year      NA_Sales      EU_Sales      JP_Sales  \\\n",
      "count  16598.000000  16327.000000  16598.000000  16598.000000  16598.000000   \n",
      "mean    8300.605254   2006.406443      0.264667      0.146652      0.077782   \n",
      "std     4791.853933      5.828981      0.816683      0.505351      0.309291   \n",
      "min        1.000000   1980.000000      0.000000      0.000000      0.000000   \n",
      "25%     4151.250000   2003.000000      0.000000      0.000000      0.000000   \n",
      "50%     8300.500000   2007.000000      0.080000      0.020000      0.000000   \n",
      "75%    12449.750000   2010.000000      0.240000      0.110000      0.040000   \n",
      "max    16600.000000   2020.000000     41.490000     29.020000     10.220000   \n",
      "\n",
      "        Other_Sales  Global_Sales  \n",
      "count  16598.000000  16598.000000  \n",
      "mean       0.048063      0.537441  \n",
      "std        0.188588      1.555028  \n",
      "min        0.000000      0.010000  \n",
      "25%        0.000000      0.060000  \n",
      "50%        0.010000      0.170000  \n",
      "75%        0.040000      0.470000  \n",
      "max       10.570000     82.740000  \n"
     ]
    }
   ],
   "source": [
    "print(df.info())\n",
    "print(df.describe())"
   ]
  },
  {
   "cell_type": "markdown",
   "metadata": {},
   "source": [
    "It can be concluded, that from a realistic perspective, the sale numbers are in millions"
   ]
  },
  {
   "cell_type": "markdown",
   "metadata": {},
   "source": [
    "Checking for null values as count of 'Year' field is lower than count of other fields"
   ]
  },
  {
   "cell_type": "code",
   "execution_count": 12,
   "metadata": {},
   "outputs": [
    {
     "data": {
      "text/plain": [
       "271"
      ]
     },
     "execution_count": 12,
     "metadata": {},
     "output_type": "execute_result"
    }
   ],
   "source": [
    "df['Year'].isna().sum()"
   ]
  },
  {
   "cell_type": "markdown",
   "metadata": {},
   "source": [
    "Some values in the 'Year' field are missing. For the missing year values, I will replace them with the mean of the games released on same platform. "
   ]
  },
  {
   "cell_type": "code",
   "execution_count": 13,
   "metadata": {},
   "outputs": [
    {
     "data": {
      "text/html": [
       "<div>\n",
       "<style scoped>\n",
       "    .dataframe tbody tr th:only-of-type {\n",
       "        vertical-align: middle;\n",
       "    }\n",
       "\n",
       "    .dataframe tbody tr th {\n",
       "        vertical-align: top;\n",
       "    }\n",
       "\n",
       "    .dataframe thead th {\n",
       "        text-align: right;\n",
       "    }\n",
       "</style>\n",
       "<table border=\"1\" class=\"dataframe\">\n",
       "  <thead>\n",
       "    <tr style=\"text-align: right;\">\n",
       "      <th></th>\n",
       "      <th>Rank</th>\n",
       "      <th>Name</th>\n",
       "      <th>Platform</th>\n",
       "      <th>Year</th>\n",
       "      <th>Genre</th>\n",
       "      <th>Publisher</th>\n",
       "      <th>NA_Sales</th>\n",
       "      <th>EU_Sales</th>\n",
       "      <th>JP_Sales</th>\n",
       "      <th>Other_Sales</th>\n",
       "      <th>Global_Sales</th>\n",
       "    </tr>\n",
       "  </thead>\n",
       "  <tbody>\n",
       "    <tr>\n",
       "      <th>0</th>\n",
       "      <td>1</td>\n",
       "      <td>Wii Sports</td>\n",
       "      <td>Wii</td>\n",
       "      <td>2006.0</td>\n",
       "      <td>Sports</td>\n",
       "      <td>Nintendo</td>\n",
       "      <td>41.49</td>\n",
       "      <td>29.02</td>\n",
       "      <td>3.77</td>\n",
       "      <td>8.46</td>\n",
       "      <td>82.74</td>\n",
       "    </tr>\n",
       "    <tr>\n",
       "      <th>1</th>\n",
       "      <td>2</td>\n",
       "      <td>Super Mario Bros.</td>\n",
       "      <td>NES</td>\n",
       "      <td>1985.0</td>\n",
       "      <td>Platform</td>\n",
       "      <td>Nintendo</td>\n",
       "      <td>29.08</td>\n",
       "      <td>3.58</td>\n",
       "      <td>6.81</td>\n",
       "      <td>0.77</td>\n",
       "      <td>40.24</td>\n",
       "    </tr>\n",
       "    <tr>\n",
       "      <th>2</th>\n",
       "      <td>3</td>\n",
       "      <td>Mario Kart Wii</td>\n",
       "      <td>Wii</td>\n",
       "      <td>2008.0</td>\n",
       "      <td>Racing</td>\n",
       "      <td>Nintendo</td>\n",
       "      <td>15.85</td>\n",
       "      <td>12.88</td>\n",
       "      <td>3.79</td>\n",
       "      <td>3.31</td>\n",
       "      <td>35.82</td>\n",
       "    </tr>\n",
       "    <tr>\n",
       "      <th>3</th>\n",
       "      <td>4</td>\n",
       "      <td>Wii Sports Resort</td>\n",
       "      <td>Wii</td>\n",
       "      <td>2009.0</td>\n",
       "      <td>Sports</td>\n",
       "      <td>Nintendo</td>\n",
       "      <td>15.75</td>\n",
       "      <td>11.01</td>\n",
       "      <td>3.28</td>\n",
       "      <td>2.96</td>\n",
       "      <td>33.00</td>\n",
       "    </tr>\n",
       "    <tr>\n",
       "      <th>4</th>\n",
       "      <td>5</td>\n",
       "      <td>Pokemon Red/Pokemon Blue</td>\n",
       "      <td>GB</td>\n",
       "      <td>1996.0</td>\n",
       "      <td>Role-Playing</td>\n",
       "      <td>Nintendo</td>\n",
       "      <td>11.27</td>\n",
       "      <td>8.89</td>\n",
       "      <td>10.22</td>\n",
       "      <td>1.00</td>\n",
       "      <td>31.37</td>\n",
       "    </tr>\n",
       "    <tr>\n",
       "      <th>...</th>\n",
       "      <td>...</td>\n",
       "      <td>...</td>\n",
       "      <td>...</td>\n",
       "      <td>...</td>\n",
       "      <td>...</td>\n",
       "      <td>...</td>\n",
       "      <td>...</td>\n",
       "      <td>...</td>\n",
       "      <td>...</td>\n",
       "      <td>...</td>\n",
       "      <td>...</td>\n",
       "    </tr>\n",
       "    <tr>\n",
       "      <th>16593</th>\n",
       "      <td>16596</td>\n",
       "      <td>Woody Woodpecker in Crazy Castle 5</td>\n",
       "      <td>GBA</td>\n",
       "      <td>2002.0</td>\n",
       "      <td>Platform</td>\n",
       "      <td>Kemco</td>\n",
       "      <td>0.01</td>\n",
       "      <td>0.00</td>\n",
       "      <td>0.00</td>\n",
       "      <td>0.00</td>\n",
       "      <td>0.01</td>\n",
       "    </tr>\n",
       "    <tr>\n",
       "      <th>16594</th>\n",
       "      <td>16597</td>\n",
       "      <td>Men in Black II: Alien Escape</td>\n",
       "      <td>GC</td>\n",
       "      <td>2003.0</td>\n",
       "      <td>Shooter</td>\n",
       "      <td>Infogrames</td>\n",
       "      <td>0.01</td>\n",
       "      <td>0.00</td>\n",
       "      <td>0.00</td>\n",
       "      <td>0.00</td>\n",
       "      <td>0.01</td>\n",
       "    </tr>\n",
       "    <tr>\n",
       "      <th>16595</th>\n",
       "      <td>16598</td>\n",
       "      <td>SCORE International Baja 1000: The Official Game</td>\n",
       "      <td>PS2</td>\n",
       "      <td>2008.0</td>\n",
       "      <td>Racing</td>\n",
       "      <td>Activision</td>\n",
       "      <td>0.00</td>\n",
       "      <td>0.00</td>\n",
       "      <td>0.00</td>\n",
       "      <td>0.00</td>\n",
       "      <td>0.01</td>\n",
       "    </tr>\n",
       "    <tr>\n",
       "      <th>16596</th>\n",
       "      <td>16599</td>\n",
       "      <td>Know How 2</td>\n",
       "      <td>DS</td>\n",
       "      <td>2010.0</td>\n",
       "      <td>Puzzle</td>\n",
       "      <td>7G//AMES</td>\n",
       "      <td>0.00</td>\n",
       "      <td>0.01</td>\n",
       "      <td>0.00</td>\n",
       "      <td>0.00</td>\n",
       "      <td>0.01</td>\n",
       "    </tr>\n",
       "    <tr>\n",
       "      <th>16597</th>\n",
       "      <td>16600</td>\n",
       "      <td>Spirits &amp; Spells</td>\n",
       "      <td>GBA</td>\n",
       "      <td>2003.0</td>\n",
       "      <td>Platform</td>\n",
       "      <td>Wanadoo</td>\n",
       "      <td>0.01</td>\n",
       "      <td>0.00</td>\n",
       "      <td>0.00</td>\n",
       "      <td>0.00</td>\n",
       "      <td>0.01</td>\n",
       "    </tr>\n",
       "  </tbody>\n",
       "</table>\n",
       "<p>16598 rows × 11 columns</p>\n",
       "</div>"
      ],
      "text/plain": [
       "        Rank                                              Name Platform  \\\n",
       "0          1                                        Wii Sports      Wii   \n",
       "1          2                                 Super Mario Bros.      NES   \n",
       "2          3                                    Mario Kart Wii      Wii   \n",
       "3          4                                 Wii Sports Resort      Wii   \n",
       "4          5                          Pokemon Red/Pokemon Blue       GB   \n",
       "...      ...                                               ...      ...   \n",
       "16593  16596                Woody Woodpecker in Crazy Castle 5      GBA   \n",
       "16594  16597                     Men in Black II: Alien Escape       GC   \n",
       "16595  16598  SCORE International Baja 1000: The Official Game      PS2   \n",
       "16596  16599                                        Know How 2       DS   \n",
       "16597  16600                                  Spirits & Spells      GBA   \n",
       "\n",
       "         Year         Genre   Publisher  NA_Sales  EU_Sales  JP_Sales  \\\n",
       "0      2006.0        Sports    Nintendo     41.49     29.02      3.77   \n",
       "1      1985.0      Platform    Nintendo     29.08      3.58      6.81   \n",
       "2      2008.0        Racing    Nintendo     15.85     12.88      3.79   \n",
       "3      2009.0        Sports    Nintendo     15.75     11.01      3.28   \n",
       "4      1996.0  Role-Playing    Nintendo     11.27      8.89     10.22   \n",
       "...       ...           ...         ...       ...       ...       ...   \n",
       "16593  2002.0      Platform       Kemco      0.01      0.00      0.00   \n",
       "16594  2003.0       Shooter  Infogrames      0.01      0.00      0.00   \n",
       "16595  2008.0        Racing  Activision      0.00      0.00      0.00   \n",
       "16596  2010.0        Puzzle    7G//AMES      0.00      0.01      0.00   \n",
       "16597  2003.0      Platform     Wanadoo      0.01      0.00      0.00   \n",
       "\n",
       "       Other_Sales  Global_Sales  \n",
       "0             8.46         82.74  \n",
       "1             0.77         40.24  \n",
       "2             3.31         35.82  \n",
       "3             2.96         33.00  \n",
       "4             1.00         31.37  \n",
       "...            ...           ...  \n",
       "16593         0.00          0.01  \n",
       "16594         0.00          0.01  \n",
       "16595         0.00          0.01  \n",
       "16596         0.00          0.01  \n",
       "16597         0.00          0.01  \n",
       "\n",
       "[16598 rows x 11 columns]"
      ]
     },
     "execution_count": 13,
     "metadata": {},
     "output_type": "execute_result"
    }
   ],
   "source": [
    "platform_mean_rank = df.groupby('Platform')['Year'].mean().round()\n",
    "df['Year'] = df.apply(lambda row: platform_mean_rank[row['Platform']] if pd.isnull(row['Year']) else row['Year'], axis=1)\n",
    "df"
   ]
  },
  {
   "cell_type": "markdown",
   "metadata": {},
   "source": [
    "Trying to estimate which year range of games does the dataset covers"
   ]
  },
  {
   "cell_type": "code",
   "execution_count": 14,
   "metadata": {},
   "outputs": [
    {
     "name": "stdout",
     "output_type": "stream",
     "text": [
      "Estimated upper bound where the dataset stops collecting entries:  2020.0\n",
      "Estimated lower bound where the dataset stops collecting entries:  1980.0\n"
     ]
    }
   ],
   "source": [
    "print('Estimated upper bound where the dataset stops collecting entries: ' , df['Year'].max())\n",
    "print('Estimated lower bound where the dataset stops collecting entries: ' , df['Year'].min())"
   ]
  },
  {
   "cell_type": "markdown",
   "metadata": {},
   "source": [
    "Checking region dominance based on a publisher\n",
    "NA = North America\n",
    "EU = Europe\n",
    "JP = Japan\n",
    "Other = Other countries"
   ]
  },
  {
   "cell_type": "code",
   "execution_count": 15,
   "metadata": {},
   "outputs": [
    {
     "data": {
      "text/plain": [
       "Publisher\n",
       "10TACLE Studios                 NA_Sales\n",
       "1C Company                      EU_Sales\n",
       "20th Century Fox Video Games    NA_Sales\n",
       "2D Boy                          EU_Sales\n",
       "3DO                             NA_Sales\n",
       "                                  ...   \n",
       "id Software                     NA_Sales\n",
       "imageepoch Inc.                 JP_Sales\n",
       "inXile Entertainment            EU_Sales\n",
       "mixi, Inc                       JP_Sales\n",
       "responDESIGN                    NA_Sales\n",
       "Length: 578, dtype: object"
      ]
     },
     "execution_count": 15,
     "metadata": {},
     "output_type": "execute_result"
    }
   ],
   "source": [
    "publisher_grouped = df.groupby('Publisher')[['NA_Sales','EU_Sales','JP_Sales','Other_Sales']].sum()\n",
    "\n",
    "\n",
    "publisher_region_dominance = publisher_grouped.idxmax(axis=1)\n",
    "publisher_region_dominance"
   ]
  },
  {
   "cell_type": "markdown",
   "metadata": {},
   "source": [
    "Checking where any given publisher might have the highest chance of making bigger profits"
   ]
  },
  {
   "cell_type": "code",
   "execution_count": 16,
   "metadata": {},
   "outputs": [
    {
     "data": {
      "text/plain": [
       "NA_Sales    49.480969\n",
       "JP_Sales    35.467128\n",
       "EU_Sales    15.051903\n",
       "dtype: float64"
      ]
     },
     "execution_count": 16,
     "metadata": {},
     "output_type": "execute_result"
    }
   ],
   "source": [
    "(publisher_region_dominance.value_counts() / len(publisher_region_dominance)) * 100"
   ]
  },
  {
   "cell_type": "markdown",
   "metadata": {},
   "source": [
    "Estimating the highest sold/used platform based on number of video game sales for that platform"
   ]
  },
  {
   "cell_type": "code",
   "execution_count": 20,
   "metadata": {},
   "outputs": [
    {
     "data": {
      "text/plain": [
       "Platform\n",
       "Wii     82.74\n",
       "NES     40.24\n",
       "GB      31.37\n",
       "DS      30.01\n",
       "X360    21.82\n",
       "PS3     21.40\n",
       "PS2     20.81\n",
       "SNES    20.61\n",
       "GBA     15.85\n",
       "3DS     14.35\n",
       "PS4     14.24\n",
       "N64     11.89\n",
       "PS      10.95\n",
       "XB       8.49\n",
       "PC       8.11\n",
       "2600     7.81\n",
       "PSP      7.72\n",
       "XOne     7.30\n",
       "GC       7.07\n",
       "WiiU     6.96\n",
       "GEN      6.03\n",
       "DC       2.42\n",
       "PSV      2.25\n",
       "SAT      1.93\n",
       "SCD      1.50\n",
       "WS       0.51\n",
       "NG       0.25\n",
       "TG16     0.14\n",
       "3DO      0.06\n",
       "GG       0.04\n",
       "PCFX     0.03\n",
       "Name: Global_Sales, dtype: float64"
      ]
     },
     "execution_count": 20,
     "metadata": {},
     "output_type": "execute_result"
    }
   ],
   "source": [
    "df.groupby('Platform')['Global_Sales'].max().sort_values(ascending=False)"
   ]
  },
  {
   "cell_type": "markdown",
   "metadata": {},
   "source": [
    "- Understanding if there is any correlation between global video game sales and year\n",
    "\n",
    "- Using matplotlib and seaborn to draw a graph to make things easier to understand"
   ]
  },
  {
   "cell_type": "code",
   "execution_count": 32,
   "metadata": {},
   "outputs": [
    {
     "data": {
      "image/png": "[encoded data removed]",
      "text/plain": [
       "<Figure size 432x288 with 1 Axes>"
      ]
     },
     "metadata": {
      "needs_background": "light"
     },
     "output_type": "display_data"
    }
   ],
   "source": [
    "import matplotlib.pyplot as plt\n",
    "import seaborn as sns\n",
    "\n",
    "\n",
    "sns.lineplot(x=\"Year\",y=\"Global_Sales\",data=df)\n",
    "plt.show()"
   ]
  }
 ],
 "metadata": {
  "kernelspec": {
   "display_name": "Python 3",
   "language": "python",
   "name": "python3"
  },
  "language_info": {
   "codemirror_mode": {
    "name": "ipython",
    "version": 3
   },
   "file_extension": ".py",
   "mimetype": "text/x-python",
   "name": "python",
   "nbconvert_exporter": "python",
   "pygments_lexer": "ipython3",
   "version": "3.10.12"
  },
  "orig_nbformat": 4
 },
 "nbformat": 4,
 "nbformat_minor": 2
}
