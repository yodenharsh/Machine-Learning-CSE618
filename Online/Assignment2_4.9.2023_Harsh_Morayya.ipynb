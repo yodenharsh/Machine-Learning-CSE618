{
 "cells": [
  {
   "cell_type": "markdown",
   "metadata": {},
   "source": [
    "Do a modular approach for writing a custom kNN algorithm (without library function). \n",
    "1. feature Scaling\n",
    "2. Calculate distance (check with every other distance)\n",
    "3. Finding k-Nearest neighbor\n",
    "4. Perform majority voting\n",
    "5. Evaluate model\n",
    "6. Perform evaluation metric and check the elbow plot (line plot) for every value of k and every value of distance metric\n",
    "7. Show Voronoi diagram (Purely optional)"
   ]
  },
  {
   "cell_type": "code",
   "execution_count": 1,
   "metadata": {},
   "outputs": [],
   "source": [
    "import numpy as np\n",
    "from collections import Counter\n",
    "\n",
    "# 1. Feature Scaling\n",
    "def feature_scaling(data):\n",
    "    return (data - np.min(data)) / (np.max(data) - np.min(data))\n",
    "\n",
    "# 2. Calculate Distance\n",
    "def euclidean_distance(x1, x2):\n",
    "    return np.sqrt(np.sum((x1 - x2)**2))\n",
    "\n",
    "# 3. Finding k-Nearest Neighbors\n",
    "def get_neighbors(X_train, X_test_instance, k):\n",
    "    distances = []\n",
    "    for i in range(X_train.shape[0]):\n",
    "        dist = euclidean_distance(X_train[i], X_test_instance)\n",
    "        distances.append((i, dist))\n",
    "    sorted_distances = sorted(distances, key=lambda x: x[1])\n",
    "    neighbors = sorted_distances[:k]\n",
    "    return neighbors\n",
    "\n",
    "# 4. Perform Majority Voting\n",
    "def majority_voting(neighbors, y_train):\n",
    "    classes = [y_train[i[0]] for i in neighbors]\n",
    "    most_common = Counter(classes).most_common(1)\n",
    "    return most_common[0][0]\n",
    "\n",
    "# 5. Evaluate Model\n",
    "def predict(X_train, y_train, X_test, k):\n",
    "    y_pred = []\n",
    "    for i in range(X_test.shape[0]):\n",
    "        neighbors = get_neighbors(X_train, X_test[i], k)\n",
    "        majority_vote = majority_voting(neighbors, y_train)\n",
    "        y_pred.append(majority_vote)\n",
    "    return y_pred\n",
    "\n",
    "# 6. Perform Evaluation Metric\n",
    "def accuracy(y_true, y_pred):\n",
    "    accuracy = np.sum(y_true == y_pred) / len(y_true)\n",
    "    return accuracy\n"
   ]
  },
  {
   "cell_type": "code",
   "execution_count": 7,
   "metadata": {},
   "outputs": [
    {
     "name": "stdout",
     "output_type": "stream",
     "text": [
      "For k val:  1 , acc =  0.9666666666666667\n",
      "For k val:  2 , acc =  0.9666666666666667\n",
      "For k val:  3 , acc =  1.0\n",
      "For k val:  4 , acc =  1.0\n",
      "For k val:  5 , acc =  1.0\n",
      "For k val:  6 , acc =  1.0\n",
      "For k val:  7 , acc =  1.0\n",
      "For k val:  8 , acc =  1.0\n",
      "For k val:  9 , acc =  1.0\n",
      "For k val:  10 , acc =  1.0\n",
      "For k val:  11 , acc =  1.0\n",
      "For k val:  12 , acc =  1.0\n",
      "For k val:  13 , acc =  1.0\n",
      "For k val:  14 , acc =  1.0\n",
      "For k val:  15 , acc =  1.0\n",
      "For k val:  16 , acc =  1.0\n",
      "For k val:  17 , acc =  1.0\n",
      "For k val:  18 , acc =  1.0\n",
      "For k val:  19 , acc =  0.9666666666666667\n",
      "For k val:  20 , acc =  1.0\n",
      "For k val:  21 , acc =  0.9666666666666667\n",
      "For k val:  22 , acc =  1.0\n",
      "For k val:  23 , acc =  0.9666666666666667\n",
      "For k val:  24 , acc =  0.9666666666666667\n",
      "For k val:  25 , acc =  0.9666666666666667\n",
      "For k val:  26 , acc =  0.9666666666666667\n",
      "For k val:  27 , acc =  0.9666666666666667\n",
      "For k val:  28 , acc =  0.9666666666666667\n",
      "For k val:  29 , acc =  0.9666666666666667\n",
      "The optimal number of neighbors is 3\n"
     ]
    },
    {
     "data": {
      "image/png": "[encoded data removed]",
      "text/plain": [
       "<Figure size 432x288 with 1 Axes>"
      ]
     },
     "metadata": {
      "needs_background": "light"
     },
     "output_type": "display_data"
    }
   ],
   "source": [
    "import matplotlib.pyplot as plt\n",
    "from sklearn.datasets import load_iris\n",
    "from sklearn.model_selection import train_test_split\n",
    "\n",
    "# Load iris dataset\n",
    "iris = load_iris()\n",
    "X = iris.data\n",
    "y = iris.target\n",
    "\n",
    "# Split dataset into training set and test set\n",
    "X_train, X_test, y_train, y_test = train_test_split(X, y, test_size=0.2)\n",
    "\n",
    "# Feature Scaling\n",
    "X_train = feature_scaling(X_train)\n",
    "X_test = feature_scaling(X_test)\n",
    "\n",
    "# List of K for KNN\n",
    "neighbors = list(range(1,30))\n",
    "\n",
    "# Empty list that will hold accuracy scores\n",
    "ac_scores = []\n",
    "\n",
    "# Perform kNN over every K\n",
    "for k in neighbors:\n",
    "    y_pred = predict(X_train, y_train, X_test, k)\n",
    "    scores = accuracy(y_test, y_pred)\n",
    "    ac_scores.append(scores)\n",
    "    print(\"For k val: \",k, \", acc = \",scores)\n",
    "\n",
    "# Changing to misclassification error (This is optional. Depends on what you want to see in the plot)\n",
    "MSE = [1 - x for x in ac_scores]\n",
    "\n",
    "# Determining best k\n",
    "optimal_k = neighbors[MSE.index(min(MSE))]\n",
    "print(\"The optimal number of neighbors is %d\" % optimal_k)\n",
    "\n",
    "# Plot misclassification error vs k (or accuracy vs k if you didn't calculate MSE)\n",
    "plt.plot(neighbors, MSE)\n",
    "plt.xlabel('Number of Neighbors K')\n",
    "plt.ylabel('Misclassification Error')\n",
    "plt.show()\n"
   ]
  }
 ],
 "metadata": {
  "kernelspec": {
   "display_name": "Python 3",
   "language": "python",
   "name": "python3"
  },
  "language_info": {
   "codemirror_mode": {
    "name": "ipython",
    "version": 3
   },
   "file_extension": ".py",
   "mimetype": "text/x-python",
   "name": "python",
   "nbconvert_exporter": "python",
   "pygments_lexer": "ipython3",
   "version": "3.10.12"
  }
 },
 "nbformat": 4,
 "nbformat_minor": 2
}
